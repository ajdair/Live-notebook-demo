{
   "cells": [
      {
         "cell_type": "markdown",
         "metadata": {},
         "source": [
            "# Demo Notebok One (Pandas)"
         ]
      },
      {
         "cell_type": "markdown",
         "metadata": {},
         "source": [
            "## Imports"
         ]
      },
      {
         "cell_type": "code",
         "execution_count": null,
         "metadata": {
            "vscode": {
               "languageId": "python"
            }
         },
         "outputs": [],
         "source": [
            "import pandas as pd\n",
            "import numpy as np\n",
            "import datetime\n",
            "import random"
         ]
      },
      {
         "cell_type": "code",
         "execution_count": null,
         "metadata": {
            "vscode": {
               "languageId": "python"
            }
         },
         "outputs": [],
         "source": [
            "# sample tick data\n",
            "def generate_tick_data(num_ticks=10):\n",
            "    timestamps = pd.date_range(start='2024-04-24', periods=num_ticks, freq='T')\n",
            "    prices = [100 + random.uniform(-1, 1) for _ in range(num_ticks)]\n",
            "    volumes = [random.randint(100, 1000) for _ in range(num_ticks)]\n",
            "    return pd.DataFrame({'Timestamp': timestamps, 'Price': prices, 'Volume': volumes})"
         ]
      },
      {
         "cell_type": "code",
         "execution_count": null,
         "metadata": {
            "vscode": {
               "languageId": "python"
            }
         },
         "outputs": [
            {
               "data": {
                  "text/html": [
                     "<div>\n",
                     "<style scoped>\n",
                     "    .dataframe tbody tr th:only-of-type {\n",
                     "        vertical-align: middle;\n",
                     "    }\n",
                     "\n",
                     "    .dataframe tbody tr th {\n",
                     "        vertical-align: top;\n",
                     "    }\n",
                     "\n",
                     "    .dataframe thead th {\n",
                     "        text-align: right;\n",
                     "    }\n",
                     "</style>\n",
                     "<table border=\"1\" class=\"dataframe\">\n",
                     "  <thead>\n",
                     "    <tr style=\"text-align: right;\">\n",
                     "      <th></th>\n",
                     "      <th>Timestamp</th>\n",
                     "      <th>Price</th>\n",
                     "      <th>Volume</th>\n",
                     "    </tr>\n",
                     "  </thead>\n",
                     "  <tbody>\n",
                     "    <tr>\n",
                     "      <th>0</th>\n",
                     "      <td>2024-04-24 00:00:00</td>\n",
                     "      <td>99.581190</td>\n",
                     "      <td>328</td>\n",
                     "    </tr>\n",
                     "    <tr>\n",
                     "      <th>1</th>\n",
                     "      <td>2024-04-24 00:01:00</td>\n",
                     "      <td>99.596902</td>\n",
                     "      <td>327</td>\n",
                     "    </tr>\n",
                     "    <tr>\n",
                     "      <th>2</th>\n",
                     "      <td>2024-04-24 00:02:00</td>\n",
                     "      <td>100.705190</td>\n",
                     "      <td>762</td>\n",
                     "    </tr>\n",
                     "    <tr>\n",
                     "      <th>3</th>\n",
                     "      <td>2024-04-24 00:03:00</td>\n",
                     "      <td>100.702893</td>\n",
                     "      <td>156</td>\n",
                     "    </tr>\n",
                     "    <tr>\n",
                     "      <th>4</th>\n",
                     "      <td>2024-04-24 00:04:00</td>\n",
                     "      <td>99.490608</td>\n",
                     "      <td>272</td>\n",
                     "    </tr>\n",
                     "    <tr>\n",
                     "      <th>5</th>\n",
                     "      <td>2024-04-24 00:05:00</td>\n",
                     "      <td>100.545553</td>\n",
                     "      <td>726</td>\n",
                     "    </tr>\n",
                     "    <tr>\n",
                     "      <th>6</th>\n",
                     "      <td>2024-04-24 00:06:00</td>\n",
                     "      <td>99.962780</td>\n",
                     "      <td>133</td>\n",
                     "    </tr>\n",
                     "    <tr>\n",
                     "      <th>7</th>\n",
                     "      <td>2024-04-24 00:07:00</td>\n",
                     "      <td>99.448444</td>\n",
                     "      <td>806</td>\n",
                     "    </tr>\n",
                     "    <tr>\n",
                     "      <th>8</th>\n",
                     "      <td>2024-04-24 00:08:00</td>\n",
                     "      <td>100.629431</td>\n",
                     "      <td>596</td>\n",
                     "    </tr>\n",
                     "    <tr>\n",
                     "      <th>9</th>\n",
                     "      <td>2024-04-24 00:09:00</td>\n",
                     "      <td>99.362995</td>\n",
                     "      <td>365</td>\n",
                     "    </tr>\n",
                     "  </tbody>\n",
                     "</table>\n",
                     "</div>"
                  ],
                  "text/plain": [
                     "            Timestamp       Price  Volume\n",
                     "0 2024-04-24 00:00:00   99.581190     328\n",
                     "1 2024-04-24 00:01:00   99.596902     327\n",
                     "2 2024-04-24 00:02:00  100.705190     762\n",
                     "3 2024-04-24 00:03:00  100.702893     156\n",
                     "4 2024-04-24 00:04:00   99.490608     272\n",
                     "5 2024-04-24 00:05:00  100.545553     726\n",
                     "6 2024-04-24 00:06:00   99.962780     133\n",
                     "7 2024-04-24 00:07:00   99.448444     806\n",
                     "8 2024-04-24 00:08:00  100.629431     596\n",
                     "9 2024-04-24 00:09:00   99.362995     365"
                  ]
               },
               "metadata": {},
               "output_type": "display_data"
            }
         ],
         "source": [
            "# tick data in a DataFrame\n",
            "tick_data = generate_tick_data()\n",
            "display(tick_data)\n"
         ]
      }
   ],
   "metadata": {
      "kernelspec": {
         "display_name": "p5.js",
         "language": "javascript",
         "name": "p5js"
      },
      "language_info": {
         "codemirror_mode": {
            "name": "javascript"
         },
         "file_extension": ".js",
         "mimetype": "text/javascript",
         "name": "p5js",
         "nbconvert_exporter": "javascript",
         "pygments_lexer": "javascript",
         "version": "es2017"
      }
   },
   "nbformat": 4,
   "nbformat_minor": 4
}
